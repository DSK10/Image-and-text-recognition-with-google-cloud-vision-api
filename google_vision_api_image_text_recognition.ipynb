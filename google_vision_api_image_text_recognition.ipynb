{
  "nbformat": 4,
  "nbformat_minor": 0,
  "metadata": {
    "colab": {
      "name": "google_vision_api-image-text-recognition",
      "provenance": [],
      "authorship_tag": "ABX9TyNeoSl0SIsF7fkLHdrW922W"
    },
    "kernelspec": {
      "name": "python3",
      "display_name": "Python 3"
    },
    "language_info": {
      "name": "python"
    }
  },
  "cells": [
    {
      "cell_type": "code",
      "metadata": {
        "id": "P8_dgryRDHue"
      },
      "source": [
        "from base64 import b64encode\n",
        "\n",
        "import googleapiclient.discovery\n",
        "from oauth2client.client import GoogleCredentials"
      ],
      "execution_count": 1,
      "outputs": []
    },
    {
      "cell_type": "code",
      "metadata": {
        "id": "qaO-rxzOD9pw"
      },
      "source": [
        "# Settings\n",
        "IMAGE_FILE = \"road_sign.jpg\"\n",
        "CREDENTIALS_FILE = \"credentials.json\""
      ],
      "execution_count": 2,
      "outputs": []
    },
    {
      "cell_type": "code",
      "metadata": {
        "id": "RqtHqq2NEJwX"
      },
      "source": [
        "# Connect to the Google Cloud-ML Service\n",
        "credentials = GoogleCredentials.from_stream(CREDENTIALS_FILE)\n",
        "service = googleapiclient.discovery.build('vision', 'v1', credentials=credentials)"
      ],
      "execution_count": 3,
      "outputs": []
    },
    {
      "cell_type": "code",
      "metadata": {
        "id": "z6ygsZchEo2l"
      },
      "source": [
        "# Read file and convert it to a base64 encoding\n",
        "with open(IMAGE_FILE, \"rb\") as f:\n",
        "    image_data = f.read()\n",
        "    encoded_image_data = b64encode(image_data).decode('UTF-8')"
      ],
      "execution_count": 4,
      "outputs": []
    },
    {
      "cell_type": "code",
      "metadata": {
        "id": "nZpf0ReNEpbB"
      },
      "source": [
        "# Create the request object for the Google Vision API\n",
        "batch_request = [{\n",
        "    'image': {\n",
        "        'content': encoded_image_data\n",
        "    },\n",
        "    'features': [\n",
        "        {\n",
        "            'type': 'LABEL_DETECTION',\n",
        "        }\n",
        "    ]\n",
        "}]"
      ],
      "execution_count": 5,
      "outputs": []
    },
    {
      "cell_type": "code",
      "metadata": {
        "id": "m4ewIRoBErz_"
      },
      "source": [
        "request = service.images().annotate(body={'requests': batch_request})\n",
        "\n",
        "# Send the request to Google\n",
        "response = request.execute()"
      ],
      "execution_count": 6,
      "outputs": []
    },
    {
      "cell_type": "code",
      "metadata": {
        "id": "Fx5CKCsLEuZT"
      },
      "source": [
        "# Check for errors\n",
        "if 'error' in response:\n",
        "    raise RuntimeError(response['error'])"
      ],
      "execution_count": 7,
      "outputs": []
    },
    {
      "cell_type": "code",
      "metadata": {
        "id": "CYOcltyhExXQ"
      },
      "source": [
        "# Print the results\n",
        "labels = response['responses'][0]['labelAnnotations']"
      ],
      "execution_count": 8,
      "outputs": []
    },
    {
      "cell_type": "code",
      "metadata": {
        "colab": {
          "base_uri": "https://localhost:8080/"
        },
        "id": "uBhW05nuEzPy",
        "outputId": "459c8bfa-796b-435e-a259-1426c61e91b6"
      },
      "source": [
        "for label in labels:\n",
        "    print(label['description'], label['score'])"
      ],
      "execution_count": 9,
      "outputs": [
        {
          "output_type": "stream",
          "name": "stdout",
          "text": [
            "Cloud 0.96640164\n",
            "Sky 0.9625852\n",
            "Road surface 0.8831195\n",
            "Asphalt 0.8787586\n",
            "Motor vehicle 0.862713\n",
            "Mode of transport 0.8514963\n",
            "Thoroughfare 0.82146585\n",
            "Road 0.80431646\n",
            "Landscape 0.7760941\n",
            "Cone 0.7714755\n"
          ]
        }
      ]
    },
    {
      "cell_type": "markdown",
      "metadata": {
        "id": "Whfgw3uLFrwR"
      },
      "source": [
        "# Text Recognition"
      ]
    },
    {
      "cell_type": "code",
      "metadata": {
        "id": "8LZwZXD_GiIO"
      },
      "source": [
        "# Change this values to match your project\n",
        "IMAGE_FILE = \"road_sign.jpg\"\n",
        "CREDENTIALS_FILE = \"credentials.json\""
      ],
      "execution_count": 12,
      "outputs": []
    },
    {
      "cell_type": "code",
      "metadata": {
        "id": "MTeXpx6kGh-n"
      },
      "source": [
        "# Connect to the Google Cloud-ML Service\n",
        "credentials = GoogleCredentials.from_stream(CREDENTIALS_FILE)\n",
        "service = googleapiclient.discovery.build('vision', 'v1', credentials=credentials)\n",
        "\n",
        "# Read file and convert it to a base64 encoding\n",
        "with open(IMAGE_FILE, \"rb\") as f:\n",
        "    image_data = f.read()\n",
        "    encoded_image_data = b64encode(image_data).decode('UTF-8')"
      ],
      "execution_count": 13,
      "outputs": []
    },
    {
      "cell_type": "code",
      "metadata": {
        "id": "WRdr33jIFtld"
      },
      "source": [
        "batch_request_text = [{\n",
        "    'image': {\n",
        "        'content': encoded_image_data\n",
        "    },\n",
        "    'features': [\n",
        "        {\n",
        "            'type': 'TEXT_DETECTION'\n",
        "        }\n",
        "    ]\n",
        "}]"
      ],
      "execution_count": 14,
      "outputs": []
    },
    {
      "cell_type": "code",
      "metadata": {
        "id": "FOuHOczBFvkU"
      },
      "source": [
        "request_text = service.images().annotate(body={'requests': batch_request_text})\n",
        "\n",
        "\n",
        "# Send the request to Google\n",
        "response_text = request_text.execute()\n",
        "\n",
        "# Check for errors\n",
        "if 'error' in response_text:\n",
        "    raise RuntimeError(response_text['error'])\n"
      ],
      "execution_count": 15,
      "outputs": []
    },
    {
      "cell_type": "code",
      "metadata": {
        "id": "qOvuwkS5F--A"
      },
      "source": [
        "# Print the results\n",
        "extracted_texts = response_text['responses'][0]['textAnnotations']"
      ],
      "execution_count": 16,
      "outputs": []
    },
    {
      "cell_type": "code",
      "metadata": {
        "colab": {
          "base_uri": "https://localhost:8080/"
        },
        "id": "vFHSR7h5Gylh",
        "outputId": "c91b2b40-7d5b-4bdb-a2ef-c4e636987919"
      },
      "source": [
        "extracted_texts"
      ],
      "execution_count": 17,
      "outputs": [
        {
          "output_type": "execute_result",
          "data": {
            "text/plain": [
              "[{'boundingPoly': {'vertices': [{'x': 583, 'y': 160},\n",
              "    {'x': 747, 'y': 160},\n",
              "    {'x': 747, 'y': 357},\n",
              "    {'x': 583, 'y': 357}]},\n",
              "  'description': 'ROAD\\nWORK\\nАНEAD\\n',\n",
              "  'locale': 'tg'},\n",
              " {'boundingPoly': {'vertices': [{'x': 608, 'y': 160},\n",
              "    {'x': 735, 'y': 162},\n",
              "    {'x': 734, 'y': 212},\n",
              "    {'x': 607, 'y': 210}]},\n",
              "  'description': 'ROAD'},\n",
              " {'boundingPoly': {'vertices': [{'x': 599, 'y': 231},\n",
              "    {'x': 740, 'y': 236},\n",
              "    {'x': 738, 'y': 286},\n",
              "    {'x': 597, 'y': 281}]},\n",
              "  'description': 'WORK'},\n",
              " {'boundingPoly': {'vertices': [{'x': 584, 'y': 305},\n",
              "    {'x': 747, 'y': 308},\n",
              "    {'x': 746, 'y': 357},\n",
              "    {'x': 583, 'y': 354}]},\n",
              "  'description': 'АНEAD'}]"
            ]
          },
          "metadata": {},
          "execution_count": 17
        }
      ]
    },
    {
      "cell_type": "code",
      "metadata": {
        "colab": {
          "base_uri": "https://localhost:8080/"
        },
        "id": "f1dkrpJ-GE0n",
        "outputId": "722ded40-be26-421a-8e90-af5d3920fd08"
      },
      "source": [
        "# Print the first piece of text found in the image\n",
        "extracted_text = extracted_texts[0]\n",
        "print(extracted_text['description'])\n",
        "\n",
        "# Print the location where the text was detected\n",
        "print(extracted_text['boundingPoly'])"
      ],
      "execution_count": 18,
      "outputs": [
        {
          "output_type": "stream",
          "name": "stdout",
          "text": [
            "ROAD\n",
            "WORK\n",
            "АНEAD\n",
            "\n",
            "{'vertices': [{'x': 583, 'y': 160}, {'x': 747, 'y': 160}, {'x': 747, 'y': 357}, {'x': 583, 'y': 357}]}\n"
          ]
        }
      ]
    }
  ]
}